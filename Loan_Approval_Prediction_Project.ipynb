{
 "cells": [
  {
   "cell_type": "markdown",
   "id": "cc3c3964",
   "metadata": {},
   "source": [
    "## 🏦 Loan Approval Prediction Using ML"
   ]
  },
  {
   "cell_type": "markdown",
   "id": "48ea6840",
   "metadata": {},
   "source": [
    "### 🔹 Step 1: Import Libraries"
   ]
  },
  {
   "cell_type": "code",
   "execution_count": null,
   "id": "e6882e2c",
   "metadata": {},
   "outputs": [],
   "source": [
    "import pandas as pd\n",
    "import numpy as np\n",
    "import matplotlib.pyplot as plt\n",
    "import seaborn as sns\n",
    "from sklearn.model_selection import train_test_split\n",
    "from sklearn.ensemble import RandomForestClassifier\n",
    "from sklearn.metrics import accuracy_score, confusion_matrix, classification_report"
   ]
  },
  {
   "cell_type": "markdown",
   "id": "112e7298",
   "metadata": {},
   "source": [
    "### 🔹 Step 2: Load & Explore Dataset"
   ]
  },
  {
   "cell_type": "code",
   "execution_count": null,
   "id": "8c61bb4a",
   "metadata": {},
   "outputs": [],
   "source": [
    "file_path = \"C:/Users/mdpra/OneDrive/Desktop/loan bank approval/loan_approval.csv\"\n",
    "df = pd.read_csv(file_path)\n",
    "df.head()"
   ]
  },
  {
   "cell_type": "code",
   "execution_count": null,
   "id": "699ed968",
   "metadata": {},
   "outputs": [],
   "source": [
    "df.info()"
   ]
  },
  {
   "cell_type": "markdown",
   "id": "81a7fdd5",
   "metadata": {},
   "source": [
    "### 🔹 Step 3: Data Cleaning"
   ]
  },
  {
   "cell_type": "code",
   "execution_count": null,
   "id": "0db77f8a",
   "metadata": {},
   "outputs": [],
   "source": [
    "df.columns = df.columns.str.strip()\n",
    "df['loan_status'] = df['loan_status'].astype(str).str.strip()\n",
    "df = df[df['loan_status'].isin(['Approved', 'Rejected'])]\n",
    "df['loan_status'] = df['loan_status'].map({'Approved': 1, 'Rejected': 0})"
   ]
  },
  {
   "cell_type": "markdown",
   "id": "a7cbdbff",
   "metadata": {},
   "source": [
    "### 🔹 Step 4: EDA (Graphs & Stats)"
   ]
  },
  {
   "cell_type": "code",
   "execution_count": null,
   "id": "7e5eea8c",
   "metadata": {},
   "outputs": [],
   "source": [
    "sns.countplot(x='loan_status', data=df)\n",
    "plt.title(\"Loan Status Distribution\")\n",
    "plt.show()"
   ]
  },
  {
   "cell_type": "code",
   "execution_count": null,
   "id": "241f733d",
   "metadata": {},
   "outputs": [],
   "source": [
    "sns.boxplot(x='loan_status', y='income_annum', data=df)\n",
    "plt.title(\"Income vs Loan Status\")\n",
    "plt.show()"
   ]
  },
  {
   "cell_type": "markdown",
   "id": "e4565186",
   "metadata": {},
   "source": [
    "### 🔹 Step 5: Preprocessing (Encoding, Nulls)"
   ]
  },
  {
   "cell_type": "code",
   "execution_count": null,
   "id": "f67e45b7",
   "metadata": {},
   "outputs": [],
   "source": [
    "from sklearn.preprocessing import LabelEncoder\n",
    "le = LabelEncoder()\n",
    "df['education'] = le.fit_transform(df['education'].astype(str).str.strip())\n",
    "df['self_employed'] = le.fit_transform(df['self_employed'].astype(str).str.strip())\n",
    "df['log_income'] = np.log(df['income_annum'])"
   ]
  },
  {
   "cell_type": "markdown",
   "id": "2e410a90",
   "metadata": {},
   "source": [
    "### 🔹 Step 6: Train-Test Split"
   ]
  },
  {
   "cell_type": "code",
   "execution_count": null,
   "id": "02c6685a",
   "metadata": {},
   "outputs": [],
   "source": [
    "X = df.drop(['loan_id', 'loan_status'], axis=1)\n",
    "y = df['loan_status']\n",
    "X_train, X_test, y_train, y_test = train_test_split(X, y, test_size=0.2, random_state=42)"
   ]
  },
  {
   "cell_type": "markdown",
   "id": "9159bc08",
   "metadata": {},
   "source": [
    "### 🔹 Step 7: Model Building (Random Forest)"
   ]
  },
  {
   "cell_type": "code",
   "execution_count": null,
   "id": "ccf7bbb4",
   "metadata": {},
   "outputs": [],
   "source": [
    "model = RandomForestClassifier(random_state=42)\n",
    "model.fit(X_train, y_train)"
   ]
  },
  {
   "cell_type": "markdown",
   "id": "f451d09a",
   "metadata": {},
   "source": [
    "### 🔹 Step 8: Evaluation"
   ]
  },
  {
   "cell_type": "code",
   "execution_count": null,
   "id": "26b638d1",
   "metadata": {},
   "outputs": [],
   "source": [
    "y_pred = model.predict(X_test)\n",
    "print(\"Accuracy:\", accuracy_score(y_test, y_pred))\n",
    "print(\"\\nConfusion Matrix:\\n\", confusion_matrix(y_test, y_pred))\n",
    "print(\"\\nClassification Report:\\n\", classification_report(y_test, y_pred))"
   ]
  },
  {
   "cell_type": "markdown",
   "id": "f575e6b2",
   "metadata": {},
   "source": [
    "### 🔹 Step 9: Conclusion"
   ]
  },
  {
   "cell_type": "markdown",
   "id": "aed48429",
   "metadata": {},
   "source": [
    "- The model was trained using Random Forest, a powerful ensemble algorithm.\n",
    "- Based on evaluation metrics like accuracy and confusion matrix, the model performs well.\n",
    "- This can now be used to automate loan approvals in banks or NBFCs."
   ]
  },
  {
   "cell_type": "markdown",
   "id": "40a492b2",
   "metadata": {},
   "source": [
    "### 🔹 Step 10: Real-time Prediction Using Manual Input"
   ]
  },
  {
   "cell_type": "code",
   "execution_count": null,
   "id": "203cb682",
   "metadata": {},
   "outputs": [],
   "source": [
    "manual_input = np.array([[0, 1, 0, 1000000, 200000, 15, 800,\n",
    "                          300000, 200000, 100000, 250000, np.log(1000000)]])\n",
    "result = model.predict(manual_input)\n",
    "print(\"✅ Loan Approved\" if result[0] == 1 else \"❌ Loan Rejected\")"
   ]
  }
 ],
 "metadata": {},
 "nbformat": 4,
 "nbformat_minor": 5
}
