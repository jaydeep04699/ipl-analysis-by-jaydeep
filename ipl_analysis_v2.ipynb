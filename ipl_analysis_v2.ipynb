# IPL Analysis (2008–2024)

This project analyzes IPL ball-by-ball data from 2008 to 2024 using Python (Pandas, Matplotlib, Seaborn).

## 🔍 Features
- Season-wise total runs
- Batsman strike rate vs boundary %
- Bowling economy vs dot ball %
- Scoring patterns across match phases
- High vs low scoring match trends

## 📊 Tools Used
- Python
- Jupyter Notebook
- Pandas, Seaborn, Matplotlib

## 📁 File Included
- `ipl_analysis.ipynb`: Jupyter Notebook with full analysis

---

**Author:** [jaydeep prajapati]
